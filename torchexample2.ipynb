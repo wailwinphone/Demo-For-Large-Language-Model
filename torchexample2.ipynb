{
 "cells": [
  {
   "cell_type": "code",
   "execution_count": 142,
   "metadata": {},
   "outputs": [
    {
     "name": "stdout",
     "output_type": "stream",
     "text": [
      "cuda\n"
     ]
    }
   ],
   "source": [
    "import torch\n",
    "import numpy as np\n",
    "import time\n",
    "import torch.nn as nn\n",
    "device = 'cuda' if torch.cuda.is_available() else 'cpu'\n",
    "from torch.nn import functional as F\n",
    "print(device)"
   ]
  },
  {
   "cell_type": "code",
   "execution_count": 108,
   "metadata": {},
   "outputs": [
    {
     "name": "stdout",
     "output_type": "stream",
     "text": [
      "0.000440\n",
      "CPU times: user 717 μs, sys: 5 μs, total: 722 μs\n",
      "Wall time: 610 μs\n"
     ]
    }
   ],
   "source": [
    "%%time\n",
    "start_time = time.time()\n",
    "#matrix operations here\n",
    "zeros = torch.zeros(1,1)\n",
    "end_time = time.time()\n",
    "\n",
    "elapsed_time = end_time - start_time\n",
    "print(f\"{elapsed_time:8f}\")"
   ]
  },
  {
   "cell_type": "code",
   "execution_count": 110,
   "metadata": {},
   "outputs": [
    {
     "name": "stdout",
     "output_type": "stream",
     "text": [
      "0.001563\n",
      "0.582765\n"
     ]
    }
   ],
   "source": [
    "#numpy CPU vs GPU\n",
    "\n",
    "torch_rand1 = torch.rand(100, 100, 100, 100).to(device)\n",
    "torch_rand2 = torch.rand(100, 100, 100, 100).to(device)\n",
    "np_rand1 = torch.rand(100, 100, 100, 100)\n",
    "np_rand2 = torch.rand(100, 100, 100, 100)\n",
    "\n",
    "start_time = time.time()\n",
    "\n",
    "rand = (torch_rand1 @ torch_rand2)\n",
    "\n",
    "end_time = time.time()\n",
    "elapsed_time = end_time - start_time\n",
    "print(f\"{elapsed_time:8f}\")\n",
    "\n",
    "start_time = time.time()\n",
    "\n",
    "rand = np.multiply(np_rand1, np_rand2)\n",
    "end_time = time.time()\n",
    "elapsed_time = end_time - start_time\n",
    "print(f\"{elapsed_time:8f}\")"
   ]
  },
  {
   "cell_type": "code",
   "execution_count": 111,
   "metadata": {},
   "outputs": [
    {
     "name": "stdout",
     "output_type": "stream",
     "text": [
      "tensor([1, 1, 1, 1, 1, 1, 1, 1, 1, 1])\n"
     ]
    }
   ],
   "source": [
    "probabilities = torch.tensor([0.1, 0.9])\n",
    "samples = torch.multinomial(probabilities, num_samples=10, replacement=True)\n",
    "print(samples)"
   ]
  },
  {
   "cell_type": "code",
   "execution_count": 112,
   "metadata": {},
   "outputs": [
    {
     "data": {
      "text/plain": [
       "tensor([1, 2, 3, 4, 5])"
      ]
     },
     "execution_count": 112,
     "metadata": {},
     "output_type": "execute_result"
    }
   ],
   "source": [
    "tensor = torch.tensor([1,2,3,4])\n",
    "out = torch.cat((tensor, torch.tensor([5])), dim=0)\n",
    "out"
   ]
  },
  {
   "cell_type": "code",
   "execution_count": 113,
   "metadata": {},
   "outputs": [
    {
     "data": {
      "text/plain": [
       "tensor([[1., 0., 0., 0., 0.],\n",
       "        [1., 1., 0., 0., 0.],\n",
       "        [1., 1., 1., 0., 0.],\n",
       "        [1., 1., 1., 1., 0.],\n",
       "        [1., 1., 1., 1., 1.]])"
      ]
     },
     "execution_count": 113,
     "metadata": {},
     "output_type": "execute_result"
    }
   ],
   "source": [
    "out = torch.tril(torch.ones(5, 5))\n",
    "out"
   ]
  },
  {
   "cell_type": "code",
   "execution_count": 114,
   "metadata": {},
   "outputs": [
    {
     "data": {
      "text/plain": [
       "tensor([[1., 1., 1., 1., 1.],\n",
       "        [0., 1., 1., 1., 1.],\n",
       "        [0., 0., 1., 1., 1.],\n",
       "        [0., 0., 0., 1., 1.],\n",
       "        [0., 0., 0., 0., 1.]])"
      ]
     },
     "execution_count": 114,
     "metadata": {},
     "output_type": "execute_result"
    }
   ],
   "source": [
    "out = torch.triu(torch.ones(5,5))\n",
    "out"
   ]
  },
  {
   "cell_type": "code",
   "execution_count": 115,
   "metadata": {},
   "outputs": [
    {
     "data": {
      "text/plain": [
       "tensor([[0., -inf, -inf, -inf, -inf],\n",
       "        [0., 0., -inf, -inf, -inf],\n",
       "        [0., 0., 0., -inf, -inf],\n",
       "        [0., 0., 0., 0., -inf],\n",
       "        [0., 0., 0., 0., 0.]])"
      ]
     },
     "execution_count": 115,
     "metadata": {},
     "output_type": "execute_result"
    }
   ],
   "source": [
    "out = torch.zeros(5, 5).masked_fill(torch.tril(torch.ones(5, 5)) == 0, float('-inf'))\n",
    "out"
   ]
  },
  {
   "cell_type": "code",
   "execution_count": 116,
   "metadata": {},
   "outputs": [
    {
     "data": {
      "text/plain": [
       "tensor([[1., 0., 0., 0., 0.],\n",
       "        [1., 1., 0., 0., 0.],\n",
       "        [1., 1., 1., 0., 0.],\n",
       "        [1., 1., 1., 1., 0.],\n",
       "        [1., 1., 1., 1., 1.]])"
      ]
     },
     "execution_count": 116,
     "metadata": {},
     "output_type": "execute_result"
    }
   ],
   "source": [
    "torch.exp(out)"
   ]
  },
  {
   "cell_type": "code",
   "execution_count": 117,
   "metadata": {},
   "outputs": [
    {
     "data": {
      "text/plain": [
       "torch.Size([4, 3, 2])"
      ]
     },
     "execution_count": 117,
     "metadata": {},
     "output_type": "execute_result"
    }
   ],
   "source": [
    "input = torch.zeros(2,3,4)\n",
    "out = input.transpose(0,2)\n",
    "out.shape"
   ]
  },
  {
   "cell_type": "code",
   "execution_count": 118,
   "metadata": {},
   "outputs": [
    {
     "data": {
      "text/plain": [
       "tensor([[1, 2, 3],\n",
       "        [4, 5, 6],\n",
       "        [7, 8, 9]])"
      ]
     },
     "execution_count": 118,
     "metadata": {},
     "output_type": "execute_result"
    }
   ],
   "source": [
    "tensor1 = torch.tensor([1,2,3])\n",
    "tensor2 = torch.tensor([4,5,6])\n",
    "tensor3 = torch.tensor([7,8,9])\n",
    "\n",
    "stacked_tensor = torch.stack([tensor1, tensor2, tensor3])\n",
    "stacked_tensor"
   ]
  },
  {
   "cell_type": "code",
   "execution_count": 119,
   "metadata": {},
   "outputs": [
    {
     "name": "stdout",
     "output_type": "stream",
     "text": [
      "tensor([ 0.8690, -4.0887,  3.8938], grad_fn=<SqueezeBackward4>)\n"
     ]
    }
   ],
   "source": [
    "import torch.nn as nn\n",
    "sample = torch.tensor([10.,10.,10.])\n",
    "linear = nn.Linear(3,3,bias=False)\n",
    "print(linear(sample))"
   ]
  },
  {
   "cell_type": "code",
   "execution_count": 120,
   "metadata": {},
   "outputs": [
    {
     "name": "stdout",
     "output_type": "stream",
     "text": [
      "tensor([0.0900, 0.2447, 0.6652])\n"
     ]
    }
   ],
   "source": [
    "import torch.nn.functional as F\n",
    "\n",
    "#Create a tensor\n",
    "tensor1 = torch.tensor([1.0,2.0,3.0])\n",
    "softmax_output = F.softmax(tensor1, dim=0)\n",
    "\n",
    "print(softmax_output)"
   ]
  },
  {
   "cell_type": "code",
   "execution_count": 121,
   "metadata": {},
   "outputs": [
    {
     "name": "stdout",
     "output_type": "stream",
     "text": [
      "torch.Size([4, 6])\n",
      "tensor([[-1.4395,  0.6494, -0.1276,  0.2380, -0.7978,  2.2173],\n",
      "        [-0.1519,  0.7549,  0.2567, -0.6368, -1.9867,  0.0505],\n",
      "        [-1.2726, -0.3244,  1.0599, -0.4081,  0.9614, -0.8176],\n",
      "        [-0.4348,  1.4820, -0.2833,  1.7671,  0.0574,  0.3167]],\n",
      "       grad_fn=<EmbeddingBackward0>)\n"
     ]
    }
   ],
   "source": [
    "#Initialize an embedding layer\n",
    "vocab_size = 80\n",
    "embedding_dim = 6\n",
    "embedding = nn.Embedding(vocab_size, embedding_dim)\n",
    "\n",
    "#Create some input indices\n",
    "input_indices = torch.LongTensor([1, 5, 3, 2])\n",
    "\n",
    "#Apply the embedding layer\n",
    "embedded_output = embedding(input_indices)\n",
    "\n",
    "#The output will be a tensor of shape (4,100), where 4 is the number of inputs \n",
    "# and 100 is the dimensionality of the embedding vectors\n",
    "print(embedded_output.shape)\n",
    "print(embedded_output)"
   ]
  },
  {
   "cell_type": "code",
   "execution_count": 134,
   "metadata": {},
   "outputs": [
    {
     "name": "stdout",
     "output_type": "stream",
     "text": [
      "tensor([[ 27,  30,  33],\n",
      "        [ 61,  68,  75],\n",
      "        [ 95, 106, 117]])\n"
     ]
    }
   ],
   "source": [
    "a = torch.tensor([[1,2],[3,4],[5,6]])\n",
    "b = torch.tensor([[7,8,9],[10,11,12]])\n",
    "print (a@b)"
   ]
  },
  {
   "cell_type": "code",
   "execution_count": 136,
   "metadata": {},
   "outputs": [
    {
     "name": "stdout",
     "output_type": "stream",
     "text": [
      "tensor([[0., 0., 0.],\n",
      "        [0., 0., 0.],\n",
      "        [0., 0., 0.]])\n"
     ]
    }
   ],
   "source": [
    "int_64 = torch.randint(1, (3,2)).float()\n",
    "#type int64\n",
    "float_32 = torch.rand(2,3)\n",
    "#type of float32\n",
    "#print(int_64.dtype, float_32.dtype)\n",
    "result = torch.matmul(int_64,float_32)\n",
    "print(result)"
   ]
  },
  {
   "cell_type": "code",
   "execution_count": 138,
   "metadata": {},
   "outputs": [
    {
     "name": "stdout",
     "output_type": "stream",
     "text": [
      "2 3 5\n",
      "torch.Size([2, 3, 5])\n"
     ]
    }
   ],
   "source": [
    "a = torch.rand(2, 3, 5)\n",
    "x, y, z =a.shape\n",
    "a = a.view(x,y,z)\n",
    "print(x,y,z)\n",
    "print(a.shape)"
   ]
  },
  {
   "cell_type": "code",
   "execution_count": 140,
   "metadata": {},
   "outputs": [
    {
     "name": "stdout",
     "output_type": "stream",
     "text": [
      "tensor([[0.6526, 0.3096, 0.2709, 0.2007, 0.9618, 0.2609, 0.2779, 0.2074, 0.4964,\n",
      "         0.4150],\n",
      "        [0.3535, 0.3492, 0.9606, 0.8388, 0.0886, 0.4680, 0.7366, 0.9235, 0.1906,\n",
      "         0.4177],\n",
      "        [0.7288, 0.0123, 0.4063, 0.9805, 0.2933, 0.9947, 0.3180, 0.9022, 0.5024,\n",
      "         0.6934],\n",
      "        [0.3950, 0.8552, 0.9384, 0.2818, 0.8736, 0.8895, 0.6120, 0.3762, 0.9752,\n",
      "         0.7905],\n",
      "        [0.8423, 0.5951, 0.9234, 0.4499, 0.4915, 0.4701, 0.1693, 0.1022, 0.6178,\n",
      "         0.4800],\n",
      "        [0.9292, 0.7800, 0.9582, 0.0614, 0.7399, 0.5327, 0.8360, 0.5356, 0.3059,\n",
      "         0.3013],\n",
      "        [0.1374, 0.2167, 0.8697, 0.0588, 0.1050, 0.2479, 0.6444, 0.1453, 0.2539,\n",
      "         0.7881],\n",
      "        [0.7490, 0.7880, 0.0206, 0.9361, 0.0693, 0.7459, 0.1060, 0.0962, 0.8323,\n",
      "         0.4063],\n",
      "        [0.4395, 0.3577, 0.5943, 0.9266, 0.3232, 0.4512, 0.7187, 0.3361, 0.6367,\n",
      "         0.4585],\n",
      "        [0.4628, 0.8705, 0.5872, 0.5267, 0.1766, 0.9174, 0.5881, 0.0259, 0.9110,\n",
      "         0.5422],\n",
      "        [0.2247, 0.5922, 0.2700, 0.1450, 0.3914, 0.5936, 0.9094, 0.1604, 0.0898,\n",
      "         0.6187],\n",
      "        [0.4014, 0.7156, 0.6401, 0.9200, 0.2819, 0.9353, 0.3566, 0.1201, 0.0353,\n",
      "         0.2784],\n",
      "        [0.7838, 0.7014, 0.4744, 0.8912, 0.7377, 0.2570, 0.8700, 0.8369, 0.9909,\n",
      "         0.1207],\n",
      "        [0.6550, 0.6245, 0.6462, 0.2101, 0.1683, 0.4802, 0.8947, 0.8072, 0.1789,\n",
      "         0.0172],\n",
      "        [0.1260, 0.3933, 0.9769, 0.0592, 0.0791, 0.1439, 0.4719, 0.0367, 0.4577,\n",
      "         0.2869],\n",
      "        [0.3804, 0.8516, 0.6249, 0.9579, 0.2409, 0.2223, 0.1486, 0.2137, 0.2020,\n",
      "         0.7002],\n",
      "        [0.8205, 0.9840, 0.1490, 0.7302, 0.3714, 0.2454, 0.5350, 0.7115, 0.8502,\n",
      "         0.4527],\n",
      "        [0.8163, 0.5753, 0.7691, 0.1399, 0.7566, 0.6600, 0.5972, 0.5240, 0.3844,\n",
      "         0.6363],\n",
      "        [0.8316, 0.7310, 0.3571, 0.1025, 0.0668, 0.0689, 0.0313, 0.6379, 0.1252,\n",
      "         0.0627],\n",
      "        [0.3860, 0.1888, 0.1915, 0.0281, 0.0605, 0.7938, 0.4335, 0.8693, 0.4646,\n",
      "         0.4335],\n",
      "        [0.2174, 0.0750, 0.3648, 0.7886, 0.2217, 0.2755, 0.2008, 0.7657, 0.8668,\n",
      "         0.3971],\n",
      "        [0.0277, 0.8629, 0.4960, 0.7048, 0.9718, 0.1297, 0.0242, 0.4609, 0.0889,\n",
      "         0.2748],\n",
      "        [0.9515, 0.9427, 0.2326, 0.1208, 0.6454, 0.6742, 0.2619, 0.7264, 0.5837,\n",
      "         0.7760],\n",
      "        [0.9437, 0.9998, 0.6426, 0.0814, 0.6520, 0.3320, 0.7003, 0.3975, 0.6434,\n",
      "         0.0122],\n",
      "        [0.2952, 0.8579, 0.1500, 0.3954, 0.7128, 0.1009, 0.9816, 0.2237, 0.8933,\n",
      "         0.7497],\n",
      "        [0.9025, 0.8456, 0.5063, 0.5820, 0.3261, 0.7075, 0.0881, 0.3864, 0.4294,\n",
      "         0.7981],\n",
      "        [0.0133, 0.1060, 0.1510, 0.5227, 0.0686, 0.0859, 0.5500, 0.0763, 0.6580,\n",
      "         0.8842],\n",
      "        [0.0141, 0.3945, 0.7124, 0.9186, 0.4602, 0.5203, 0.6397, 0.2284, 0.9170,\n",
      "         0.9142],\n",
      "        [0.6269, 0.0787, 0.9676, 0.0822, 0.4016, 0.8776, 0.8430, 0.6065, 0.3400,\n",
      "         0.3028],\n",
      "        [0.2502, 0.0039, 0.9229, 0.6885, 0.4718, 0.1405, 0.9241, 0.4413, 0.5653,\n",
      "         0.2783],\n",
      "        [0.8281, 0.9262, 0.5695, 0.3351, 0.8689, 0.1497, 0.9968, 0.5998, 0.2881,\n",
      "         0.5484],\n",
      "        [0.0195, 0.0052, 0.0237, 0.7090, 0.6489, 0.8143, 0.0201, 0.4664, 0.8397,\n",
      "         0.4265]])\n"
     ]
    },
    {
     "ename": "IndexError",
     "evalue": "too many indices for tensor of dimension 2",
     "output_type": "error",
     "traceback": [
      "\u001b[0;31m---------------------------------------------------------------------------\u001b[0m",
      "\u001b[0;31mIndexError\u001b[0m                                Traceback (most recent call last)",
      "Cell \u001b[0;32mIn[140], line 6\u001b[0m\n\u001b[1;32m      4\u001b[0m \u001b[38;5;28mprint\u001b[39m(output)\n\u001b[1;32m      5\u001b[0m \u001b[38;5;66;03m#print(input)\u001b[39;00m\n\u001b[0;32m----> 6\u001b[0m \u001b[38;5;28mprint\u001b[39m(output[:, \u001b[38;5;241m-\u001b[39m\u001b[38;5;241m1\u001b[39m, :])\n",
      "\u001b[0;31mIndexError\u001b[0m: too many indices for tensor of dimension 2"
     ]
    }
   ],
   "source": [
    " input = torch.rand ((4,8,10))\n",
    "B, T, C =input.shape\n",
    "output = input.view(B*T, C)\n",
    "print(output)\n",
    "#print(input)\n",
    "print(output[:, -1, :])"
   ]
  },
  {
   "cell_type": "code",
   "execution_count": 104,
   "metadata": {},
   "outputs": [
    {
     "name": "stdout",
     "output_type": "stream",
     "text": [
      "tensor([0.4875])\n"
     ]
    }
   ],
   "source": [
    "x = torch.tensor([-0.05], dtype=torch.float32)\n",
    "y = F.sigmoid(x)\n",
    "print (y)"
   ]
  },
  {
   "cell_type": "code",
   "execution_count": null,
   "metadata": {},
   "outputs": [],
   "source": []
  }
 ],
 "metadata": {
  "kernelspec": {
   "display_name": "cuda-gpt",
   "language": "python",
   "name": "conda"
  },
  "language_info": {
   "codemirror_mode": {
    "name": "ipython",
    "version": 3
   },
   "file_extension": ".py",
   "mimetype": "text/x-python",
   "name": "python",
   "nbconvert_exporter": "python",
   "pygments_lexer": "ipython3",
   "version": "3.12.7"
  }
 },
 "nbformat": 4,
 "nbformat_minor": 4
}
